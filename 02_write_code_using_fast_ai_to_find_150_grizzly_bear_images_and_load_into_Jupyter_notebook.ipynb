{
  "cells": [
    {
      "cell_type": "markdown",
      "metadata": {
        "id": "view-in-github",
        "colab_type": "text"
      },
      "source": [
        "<a href=\"https://colab.research.google.com/github/cwb4-dev/fastbook/blob/master/02_write_code_using_fast_ai_to_find_150_grizzly_bear_images_and_load_into_Jupyter_notebook.ipynb\" target=\"_parent\"><img src=\"https://colab.research.google.com/assets/colab-badge.svg\" alt=\"Open In Colab\"/></a>"
      ]
    },
    {
      "cell_type": "markdown",
      "source": [
        "**Here's the code to find 150 grizzly bear images using fast.ai and load them into a Jupyter notebook:**\n",
        "\n",
        "**1. Install fast.ai and additional libraries:**\n",
        "\n",
        "```bash\n",
        "!pip install fastai\n",
        "!pip install duckduckgo_search\n",
        "```\n",
        "\n",
        "**2. Import necessary libraries:**"
      ],
      "metadata": {
        "id": "yOtoME1bxPGa"
      }
    },
    {
      "cell_type": "code",
      "source": [
        "from fastai.vision.all import *\n",
        "from fastcore.all import *\n",
        "from duckduckgo_search import ddg_images"
      ],
      "outputs": [],
      "execution_count": null,
      "metadata": {
        "id": "uvKcHXXTxPGd"
      }
    },
    {
      "cell_type": "markdown",
      "source": [
        "**3. Set up Bing Search API key (if using Bing):**"
      ],
      "metadata": {
        "id": "wmEldroixPGe"
      }
    },
    {
      "cell_type": "code",
      "source": [
        "key = os.environ.get('AZURE_SEARCH_KEY', 'your_bing_api_key')"
      ],
      "outputs": [],
      "execution_count": null,
      "metadata": {
        "id": "Awd2B7FExPGe"
      }
    },
    {
      "cell_type": "markdown",
      "source": [
        "**4. Search for images:**"
      ],
      "metadata": {
        "id": "EbTLKi-9xPGf"
      }
    },
    {
      "cell_type": "code",
      "source": [
        "# Option 1: Using DuckDuckGo (recommended)\n",
        "urls = ddg_images(query=\"grizzly bear\", max_results=150).itemgot('image')\n",
        "\n",
        "# Option 2: Using Bing Search (requires API key)\n",
        "# results = search_images_bing(key, 'grizzly bear', max_images=150)\n",
        "# urls = results.attrgot('contentUrl')"
      ],
      "outputs": [],
      "execution_count": null,
      "metadata": {
        "id": "kf7uKAlXxPGf"
      }
    },
    {
      "cell_type": "markdown",
      "source": [
        "**5. Download images:**"
      ],
      "metadata": {
        "id": "lWVRxOKdxPGf"
      }
    },
    {
      "cell_type": "code",
      "source": [
        "path = Path('grizzly_bears')\n",
        "path.mkdir(exist_ok=True)\n",
        "download_images(path, urls=urls)"
      ],
      "outputs": [],
      "execution_count": null,
      "metadata": {
        "id": "g54UYHbYxPGg"
      }
    },
    {
      "cell_type": "markdown",
      "source": [
        "**6. Load images into a DataLoaders object:**"
      ],
      "metadata": {
        "id": "j-Gj5FA6xPGg"
      }
    },
    {
      "cell_type": "code",
      "source": [
        "bears = ImageDataLoaders.from_folder(path, valid_pct=0.2, seed=42)"
      ],
      "outputs": [],
      "execution_count": null,
      "metadata": {
        "id": "XjuyclbjxPGg"
      }
    },
    {
      "cell_type": "markdown",
      "source": [
        "**7. View a sample of the images:**"
      ],
      "metadata": {
        "id": "iIspBe-FxPGg"
      }
    },
    {
      "cell_type": "code",
      "source": [
        "bears.show_batch(max_n=4, nrows=1)"
      ],
      "outputs": [],
      "execution_count": null,
      "metadata": {
        "id": "GabZo2UlxPGg"
      }
    },
    {
      "cell_type": "markdown",
      "source": [
        "**This code will:**\n",
        "\n",
        "1. Install the required libraries.\n",
        "2. Search for 150 grizzly bear images using either DuckDuckGo or Bing Search (depending on your preference and API key availability).\n",
        "3. Download the images to a folder named \"grizzly_bears\".\n",
        "4. Create a DataLoaders object to manage the images for further processing in fast.ai.\n",
        "5. Display a sample of the downloaded images to visually confirm successful retrieval.\n",
        "\n",
        "**Remember:**\n",
        "\n",
        "- Replace `'your_bing_api_key'` with your actual Bing Search API key if you're using that option.\n",
        "- Ensure you have a working internet connection for image downloads.\n",
        "- Adjust the `valid_pct` and `seed` parameters in `ImageDataLoaders.from_folder` as needed for your specific project."
      ],
      "metadata": {
        "id": "Dxm6msDrxPGh"
      }
    }
  ],
  "metadata": {
    "colab": {
      "provenance": [],
      "include_colab_link": true
    },
    "kernelspec": {
      "display_name": "Python 3",
      "name": "python3"
    }
  },
  "nbformat": 4,
  "nbformat_minor": 0
}