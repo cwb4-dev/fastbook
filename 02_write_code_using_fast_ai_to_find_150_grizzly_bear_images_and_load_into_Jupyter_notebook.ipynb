{
 "cells": [
  {
   "cell_type": "markdown",
   "metadata": {
    "colab_type": "text",
    "id": "view-in-github"
   },
   "source": [
    "<a href=\"https://colab.research.google.com/github/cwb4-dev/fastbook/blob/master/02_write_code_using_fast_ai_to_find_150_grizzly_bear_images_and_load_into_Jupyter_notebook.ipynb\" target=\"_parent\"><img src=\"https://colab.research.google.com/assets/colab-badge.svg\" alt=\"Open In Colab\"/></a>"
   ]
  },
  {
   "cell_type": "markdown",
   "metadata": {
    "id": "yOtoME1bxPGa"
   },
   "source": [
    "**Here's the code to find 150 grizzly bear images using fast.ai and load them into a Jupyter notebook:**\n",
    "\n",
    "**1. Install fast.ai and additional libraries:**\n",
    "\n",
    "```bash\n",
    "!pip install fastai\n",
    "!pip install duckduckgo_search\n",
    "```\n",
    "\n",
    "**2. Import necessary libraries:**"
   ]
  },
  {
   "cell_type": "code",
   "execution_count": null,
   "metadata": {
    "id": "uvKcHXXTxPGd"
   },
   "outputs": [],
   "source": [
    "from fastai.vision.all import *\n",
    "from fastcore.all import *\n",
    "from duckduckgo_search import ddg_images"
   ]
  },
  {
   "cell_type": "markdown",
   "metadata": {
    "id": "wmEldroixPGe"
   },
   "source": [
    "**3. Set up Bing Search API key (if using Bing):**"
   ]
  },
  {
   "cell_type": "code",
   "execution_count": null,
   "metadata": {
    "id": "Awd2B7FExPGe"
   },
   "outputs": [],
   "source": [
    "key = os.environ.get('AZURE_SEARCH_KEY', 'your_bing_api_key')"
   ]
  },
  {
   "cell_type": "markdown",
   "metadata": {
    "id": "EbTLKi-9xPGf"
   },
   "source": [
    "**4. Search for images:**"
   ]
  },
  {
   "cell_type": "code",
   "execution_count": null,
   "metadata": {
    "id": "kf7uKAlXxPGf"
   },
   "outputs": [],
   "source": [
    "# Option 1: Using DuckDuckGo (recommended)\n",
    "urls = ddg_images(query=\"grizzly bear\", max_results=150).itemgot('image')\n",
    "\n",
    "# Option 2: Using Bing Search (requires API key)\n",
    "# results = search_images_bing(key, 'grizzly bear', max_images=150)\n",
    "# urls = results.attrgot('contentUrl')"
   ]
  },
  {
   "cell_type": "markdown",
   "metadata": {
    "id": "lWVRxOKdxPGf"
   },
   "source": [
    "**5. Download images:**"
   ]
  },
  {
   "cell_type": "code",
   "execution_count": null,
   "metadata": {
    "id": "g54UYHbYxPGg"
   },
   "outputs": [],
   "source": [
    "path = Path('grizzly_bears')\n",
    "path.mkdir(exist_ok=True)\n",
    "download_images(path, urls=urls)"
   ]
  },
  {
   "cell_type": "markdown",
   "metadata": {
    "id": "j-Gj5FA6xPGg"
   },
   "source": [
    "**6. Load images into a DataLoaders object:**"
   ]
  },
  {
   "cell_type": "code",
   "execution_count": null,
   "metadata": {
    "id": "XjuyclbjxPGg"
   },
   "outputs": [],
   "source": [
    "bears = ImageDataLoaders.from_folder(path, valid_pct=0.2, seed=42)"
   ]
  },
  {
   "cell_type": "markdown",
   "metadata": {
    "id": "iIspBe-FxPGg"
   },
   "source": [
    "**7. View a sample of the images:**"
   ]
  },
  {
   "cell_type": "code",
   "execution_count": null,
   "metadata": {
    "id": "GabZo2UlxPGg"
   },
   "outputs": [],
   "source": [
    "bears.show_batch(max_n=4, nrows=1)"
   ]
  },
  {
   "cell_type": "markdown",
   "metadata": {
    "id": "Dxm6msDrxPGh"
   },
   "source": [
    "**This code will:**\n",
    "\n",
    "1. Install the required libraries.\n",
    "2. Search for 150 grizzly bear images using either DuckDuckGo or Bing Search (depending on your preference and API key availability).\n",
    "3. Download the images to a folder named \"grizzly_bears\".\n",
    "4. Create a DataLoaders object to manage the images for further processing in fast.ai.\n",
    "5. Display a sample of the downloaded images to visually confirm successful retrieval.\n",
    "\n",
    "**Remember:**\n",
    "\n",
    "- Replace `'your_bing_api_key'` with your actual Bing Search API key if you're using that option.\n",
    "- Ensure you have a working internet connection for image downloads.\n",
    "- Adjust the `valid_pct` and `seed` parameters in `ImageDataLoaders.from_folder` as needed for your specific project."
   ]
  }
 ],
 "metadata": {
  "colab": {
   "include_colab_link": true,
   "provenance": []
  },
  "kernelspec": {
   "display_name": "Python 3 (ipykernel)",
   "language": "python",
   "name": "python3"
  },
  "language_info": {
   "codemirror_mode": {
    "name": "ipython",
    "version": 3
   },
   "file_extension": ".py",
   "mimetype": "text/x-python",
   "name": "python",
   "nbconvert_exporter": "python",
   "pygments_lexer": "ipython3",
   "version": "3.11.6"
  }
 },
 "nbformat": 4,
 "nbformat_minor": 4
}
