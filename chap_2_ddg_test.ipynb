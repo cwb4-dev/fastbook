{
  "nbformat": 4,
  "nbformat_minor": 0,
  "metadata": {
    "colab": {
      "private_outputs": true,
      "provenance": [],
      "authorship_tag": "ABX9TyNZRnTnNO/L9XfNXGF7RHbY",
      "include_colab_link": true
    },
    "kernelspec": {
      "name": "python3",
      "display_name": "Python 3"
    },
    "language_info": {
      "name": "python"
    }
  },
  "cells": [
    {
      "cell_type": "markdown",
      "metadata": {
        "id": "view-in-github",
        "colab_type": "text"
      },
      "source": [
        "<a href=\"https://colab.research.google.com/github/cwb4-dev/fastbook/blob/master/chap_2_ddg_test.ipynb\" target=\"_parent\"><img src=\"https://colab.research.google.com/assets/colab-badge.svg\" alt=\"Open In Colab\"/></a>"
      ]
    },
    {
      "cell_type": "code",
      "execution_count": null,
      "metadata": {
        "id": "rfLQj2-LfCYa"
      },
      "outputs": [],
      "source": [
        "! [ -e /content ] && pip install -Uqq fastbook\n",
        "import fastbook\n",
        "fastbook.setup_book()"
      ]
    },
    {
      "cell_type": "code",
      "execution_count": null,
      "metadata": {
        "id": "vjx177m_iaVu"
      },
      "outputs": [],
      "source": [
        "#hide\n",
        "from fastbook import *"
      ]
    },
    {
      "cell_type": "markdown",
      "source": [
        "###Note: issues using in class notebook, not sure"
      ],
      "metadata": {
        "id": "DRL5qVA0gXFG"
      }
    },
    {
      "cell_type": "code",
      "source": [
        "search_images_ddg"
      ],
      "metadata": {
        "id": "zjupbFSWfgAo"
      },
      "execution_count": null,
      "outputs": []
    },
    {
      "cell_type": "code",
      "source": [
        "def search_images(image_type):\n",
        "    return search_images_ddg(image_type)\n",
        "\n",
        "ims = search_images('grizzly bears')\n",
        "ims = search_images_ddg('grizzly bears')\n",
        "len(ims)"
      ],
      "metadata": {
        "id": "DUR0bixrfm8U"
      },
      "execution_count": null,
      "outputs": []
    }
  ]
}