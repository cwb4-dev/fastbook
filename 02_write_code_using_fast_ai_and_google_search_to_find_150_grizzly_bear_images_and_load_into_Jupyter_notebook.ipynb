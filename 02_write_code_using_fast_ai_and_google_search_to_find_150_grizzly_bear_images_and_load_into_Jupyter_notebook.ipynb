{
 "cells": [
  {
   "cell_type": "markdown",
   "metadata": {
    "colab_type": "text",
    "id": "view-in-github"
   },
   "source": [
    "<a href=\"https://colab.research.google.com/github/cwb4-dev/fastbook/blob/master/02_write_code_using_fast_ai_and_google_search_to_find_150_grizzly_bear_images_and_load_into_Jupyter_notebook.ipynb\" target=\"_parent\"><img src=\"https://colab.research.google.com/assets/colab-badge.svg\" alt=\"Open In Colab\"/></a>"
   ]
  },
  {
   "cell_type": "markdown",
   "metadata": {
    "id": "3p7fr79_wlig"
   },
   "source": [
    "**While fast.ai doesn't directly support Google Search, here's a workaround using DuckDuckGo, which offers a similar experience:**\n",
    "\n",
    "**1. Install fast.ai and DuckDuckGo Search library:**\n",
    "\n",
    "```bash\n",
    "!pip install fastai\n",
    "!pip install duckduckgo_search\n",
    "```\n",
    "\n",
    "**2. Import necessary libraries:**"
   ]
  },
  {
   "cell_type": "code",
   "execution_count": null,
   "metadata": {
    "id": "t1l2nuYGwlik"
   },
   "outputs": [],
   "source": [
    "from fastai.vision.all import *\n",
    "from fastcore.all import *\n",
    "from duckduckgo_search import ddg_images"
   ]
  },
  {
   "cell_type": "markdown",
   "metadata": {
    "id": "SIUYuOvywlim"
   },
   "source": [
    "**3. Search for images using DuckDuckGo:**"
   ]
  },
  {
   "cell_type": "code",
   "execution_count": null,
   "metadata": {
    "id": "bFFClsP-wlim"
   },
   "outputs": [],
   "source": [
    "urls = ddg_images(query=\"grizzly bear\", max_results=150).itemgot('image')"
   ]
  },
  {
   "cell_type": "markdown",
   "metadata": {
    "id": "YPJ59zidwlim"
   },
   "source": [
    "**4. Download images:**"
   ]
  },
  {
   "cell_type": "code",
   "execution_count": null,
   "metadata": {
    "id": "OEg0hsNywlin"
   },
   "outputs": [],
   "source": [
    "path = Path('grizzly_bears')\n",
    "path.mkdir(exist_ok=True)\n",
    "download_images(path, urls=urls)"
   ]
  },
  {
   "cell_type": "markdown",
   "metadata": {
    "id": "ARSoCQAcwlin"
   },
   "source": [
    "**5. Load images into a DataLoaders object:**"
   ]
  },
  {
   "cell_type": "code",
   "execution_count": null,
   "metadata": {
    "id": "p_UNKJOxwlin"
   },
   "outputs": [],
   "source": [
    "bears = ImageDataLoaders.from_folder(path, valid_pct=0.2, seed=42)"
   ]
  },
  {
   "cell_type": "markdown",
   "metadata": {
    "id": "dBDz5ssjwlio"
   },
   "source": [
    "**6. View a sample of the images:**"
   ]
  },
  {
   "cell_type": "code",
   "execution_count": null,
   "metadata": {
    "id": "7iKT50xbwlio"
   },
   "outputs": [],
   "source": [
    "bears.show_batch(max_n=4, nrows=1)"
   ]
  },
  {
   "cell_type": "markdown",
   "metadata": {
    "id": "f1tn_gDpwlio"
   },
   "source": [
    "**This code will:**\n",
    "\n",
    "- Search for 150 grizzly bear images using DuckDuckGo.\n",
    "- Download the images to a folder named \"grizzly_bears\".\n",
    "- Create a DataLoaders object for image management in fast.ai.\n",
    "- Display a sample of the downloaded images, similar to what you'd see in Google Search results.\n",
    "\n",
    "**Here's a visual representation of the process:**\n",
    "\n",
    "[Image of code cells in a Jupyter Notebook]\n",
    "[Image of a folder containing grizzly bear images]"
   ]
  }
 ],
 "metadata": {
  "colab": {
   "include_colab_link": true,
   "provenance": []
  },
  "kernelspec": {
   "display_name": "Python 3 (ipykernel)",
   "language": "python",
   "name": "python3"
  },
  "language_info": {
   "codemirror_mode": {
    "name": "ipython",
    "version": 3
   },
   "file_extension": ".py",
   "mimetype": "text/x-python",
   "name": "python",
   "nbconvert_exporter": "python",
   "pygments_lexer": "ipython3",
   "version": "3.11.6"
  }
 },
 "nbformat": 4,
 "nbformat_minor": 4
}
