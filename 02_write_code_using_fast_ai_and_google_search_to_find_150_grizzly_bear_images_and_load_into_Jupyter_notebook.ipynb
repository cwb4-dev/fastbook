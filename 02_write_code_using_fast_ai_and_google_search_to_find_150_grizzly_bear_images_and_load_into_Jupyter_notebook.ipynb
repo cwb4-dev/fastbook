{
  "cells": [
    {
      "cell_type": "markdown",
      "source": [
        "**While fast.ai doesn't directly support Google Search, here's a workaround using DuckDuckGo, which offers a similar experience:**\n",
        "\n",
        "**1. Install fast.ai and DuckDuckGo Search library:**\n",
        "\n",
        "```bash\n",
        "!pip install fastai\n",
        "!pip install duckduckgo_search\n",
        "```\n",
        "\n",
        "**2. Import necessary libraries:**"
      ],
      "metadata": {
        "id": "3p7fr79_wlig"
      }
    },
    {
      "cell_type": "code",
      "source": [
        "from fastai.vision.all import *\n",
        "from fastcore.all import *\n",
        "from duckduckgo_search import ddg_images"
      ],
      "outputs": [],
      "execution_count": null,
      "metadata": {
        "id": "t1l2nuYGwlik"
      }
    },
    {
      "cell_type": "markdown",
      "source": [
        "**3. Search for images using DuckDuckGo:**"
      ],
      "metadata": {
        "id": "SIUYuOvywlim"
      }
    },
    {
      "cell_type": "code",
      "source": [
        "urls = ddg_images(query=\"grizzly bear\", max_results=150).itemgot('image')"
      ],
      "outputs": [],
      "execution_count": null,
      "metadata": {
        "id": "bFFClsP-wlim"
      }
    },
    {
      "cell_type": "markdown",
      "source": [
        "**4. Download images:**"
      ],
      "metadata": {
        "id": "YPJ59zidwlim"
      }
    },
    {
      "cell_type": "code",
      "source": [
        "path = Path('grizzly_bears')\n",
        "path.mkdir(exist_ok=True)\n",
        "download_images(path, urls=urls)"
      ],
      "outputs": [],
      "execution_count": null,
      "metadata": {
        "id": "OEg0hsNywlin"
      }
    },
    {
      "cell_type": "markdown",
      "source": [
        "**5. Load images into a DataLoaders object:**"
      ],
      "metadata": {
        "id": "ARSoCQAcwlin"
      }
    },
    {
      "cell_type": "code",
      "source": [
        "bears = ImageDataLoaders.from_folder(path, valid_pct=0.2, seed=42)"
      ],
      "outputs": [],
      "execution_count": null,
      "metadata": {
        "id": "p_UNKJOxwlin"
      }
    },
    {
      "cell_type": "markdown",
      "source": [
        "**6. View a sample of the images:**"
      ],
      "metadata": {
        "id": "dBDz5ssjwlio"
      }
    },
    {
      "cell_type": "code",
      "source": [
        "bears.show_batch(max_n=4, nrows=1)"
      ],
      "outputs": [],
      "execution_count": null,
      "metadata": {
        "id": "7iKT50xbwlio"
      }
    },
    {
      "cell_type": "markdown",
      "source": [
        "**This code will:**\n",
        "\n",
        "- Search for 150 grizzly bear images using DuckDuckGo.\n",
        "- Download the images to a folder named \"grizzly_bears\".\n",
        "- Create a DataLoaders object for image management in fast.ai.\n",
        "- Display a sample of the downloaded images, similar to what you'd see in Google Search results.\n",
        "\n",
        "**Here's a visual representation of the process:**\n",
        "\n",
        "[Image of code cells in a Jupyter Notebook]\n",
        "[Image of a folder containing grizzly bear images]"
      ],
      "metadata": {
        "id": "f1tn_gDpwlio"
      }
    }
  ],
  "metadata": {
    "colab": {
      "provenance": []
    },
    "kernelspec": {
      "display_name": "Python 3",
      "name": "python3"
    }
  },
  "nbformat": 4,
  "nbformat_minor": 0
}
